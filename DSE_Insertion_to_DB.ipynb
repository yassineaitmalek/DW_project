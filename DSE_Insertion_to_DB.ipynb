{
 "cells": [
  {
   "cell_type": "markdown",
   "id": "cd3e1631",
   "metadata": {},
   "source": [
    "<h1>   Importing Laibraries    <h1>\n"
   ]
  },
  {
   "cell_type": "code",
   "execution_count": 1,
   "id": "b6f92002",
   "metadata": {
    "execution": {
     "iopub.execute_input": "2021-06-18T22:59:35.349400Z",
     "iopub.status.busy": "2021-06-18T22:59:35.348009Z",
     "iopub.status.idle": "2021-06-18T22:59:35.670589Z",
     "shell.execute_reply": "2021-06-18T22:59:35.671412Z"
    }
   },
   "outputs": [],
   "source": [
    "import pandas as pd\n",
    "import psycopg2\n",
    "import json"
   ]
  },
  {
   "cell_type": "markdown",
   "id": "421e887b",
   "metadata": {},
   "source": [
    "<h1>    Importing JSON file   <h1>"
   ]
  },
  {
   "cell_type": "code",
   "execution_count": 2,
   "id": "ac57eed3",
   "metadata": {
    "execution": {
     "iopub.execute_input": "2021-06-18T22:59:35.675599Z",
     "iopub.status.busy": "2021-06-18T22:59:35.674508Z",
     "iopub.status.idle": "2021-06-18T22:59:35.686964Z",
     "shell.execute_reply": "2021-06-18T22:59:35.686509Z"
    }
   },
   "outputs": [
    {
     "name": "stdout",
     "output_type": "stream",
     "text": [
      "Config: {'database': 'Students', 'user': 'postgres', 'password': 'a', 'host': 'localhost', 'port': '5432'}\n"
     ]
    }
   ],
   "source": [
    "with open(\"/home/ys/notebook/config.json\") as f:\n",
    "    config = json.load(f)\n",
    "print(\"Config:\",config)\n",
    "mydb = psycopg2.connect(database=config[\"database\"], user=config[\"user\"], password=config[\"password\"], host=config[\"host\"], port=config[\"port\"], options=f'-c search_path=biabsence')"
   ]
  },
  {
   "cell_type": "markdown",
   "id": "2e3e4be0",
   "metadata": {},
   "source": [
    "<h1>      Student table columns <h1>"
   ]
  },
  {
   "cell_type": "code",
   "execution_count": 3,
   "id": "e9c09627",
   "metadata": {
    "execution": {
     "iopub.execute_input": "2021-06-18T22:59:35.691951Z",
     "iopub.status.busy": "2021-06-18T22:59:35.691347Z",
     "iopub.status.idle": "2021-06-18T22:59:35.709298Z",
     "shell.execute_reply": "2021-06-18T22:59:35.708214Z"
    }
   },
   "outputs": [
    {
     "name": "stdout",
     "output_type": "stream",
     "text": [
      "id : integer\n",
      "first_name : character varying\n",
      "last_name : character varying\n",
      "email : character varying\n",
      "filiere : character varying\n"
     ]
    }
   ],
   "source": [
    "mycursor = mydb.cursor()\n",
    "table=\"student\"\n",
    "mycursor.execute(f\"\"\"SELECT * FROM information_schema.columns WHERE table_schema = 'Students_db' AND table_name   = '{table}' ;\"\"\")\n",
    "myresult = mycursor.fetchall()\n",
    "for value in myresult:\n",
    "     print(value[3],\":\",value[7])"
   ]
  },
  {
   "cell_type": "markdown",
   "id": "2a824844",
   "metadata": {},
   "source": [
    "<h1> Adding student function     <h1>"
   ]
  },
  {
   "cell_type": "code",
   "execution_count": 4,
   "id": "de4208df",
   "metadata": {
    "execution": {
     "iopub.execute_input": "2021-06-18T22:59:35.716978Z",
     "iopub.status.busy": "2021-06-18T22:59:35.716303Z",
     "iopub.status.idle": "2021-06-18T22:59:35.726401Z",
     "shell.execute_reply": "2021-06-18T22:59:35.727119Z"
    }
   },
   "outputs": [],
   "source": [
    "def add_student(prenom,nom,email,fil):\n",
    "    with open(\"/home/ys/notebook/config.json\") as f:\n",
    "        config = json.load(f)\n",
    "    \n",
    "    mydb = psycopg2.connect(database=config[\"database\"], user=config[\"user\"], password=config[\"password\"], host=config[\"host\"], port=config[\"port\"], options=f'-c search_path=biabsence')\n",
    "    mycursor = mydb.cursor()\n",
    "    mycursor.execute(f\"\"\"SELECT * FROM \"Students_db\".student where email ='{email}';\"\"\")\n",
    "    myresult = mycursor.fetchall()\n",
    "    if len(myresult) != 0:\n",
    "        return myresult[0][0]\n",
    "    if len(myresult) == 0:\n",
    "        sql = \"\"\"INSERT INTO \"Students_db\".student (first_name,last_name,email,filiere) VALUES (%s,%s,%s,%s)\"\"\"\n",
    "        val = (prenom,nom,email,fil)\n",
    "        mycursor.execute(sql, val)\n",
    "        mydb.commit()\n",
    "        # print(mycursor.rowcount, \"record inserted.\")\n",
    "        mycursor.execute(f\"\"\"SELECT * FROM \"Students_db\".student where email ='{email}';\"\"\")\n",
    "        myresult = mycursor.fetchall()\n",
    "        return myresult[0][0]"
   ]
  },
  {
   "cell_type": "markdown",
   "id": "50659c8b",
   "metadata": {},
   "source": [
    "<h1>  Adding student to table     <h1>"
   ]
  },
  {
   "cell_type": "code",
   "execution_count": 5,
   "id": "ec906310",
   "metadata": {
    "execution": {
     "iopub.execute_input": "2021-06-18T22:59:35.733458Z",
     "iopub.status.busy": "2021-06-18T22:59:35.729465Z",
     "iopub.status.idle": "2021-06-18T22:59:35.979008Z",
     "shell.execute_reply": "2021-06-18T22:59:35.978214Z"
    }
   },
   "outputs": [
    {
     "name": "stdout",
     "output_type": "stream",
     "text": [
      "33\n",
      "34\n",
      "35\n",
      "36\n",
      "37\n",
      "38\n",
      "39\n",
      "40\n",
      "41\n",
      "42\n",
      "43\n",
      "44\n",
      "45\n",
      "46\n",
      "47\n",
      "48\n",
      "49\n",
      "50\n",
      "51\n",
      "52\n",
      "53\n",
      "54\n",
      "55\n",
      "56\n",
      "57\n",
      "58\n",
      "59\n",
      "60\n",
      "61\n",
      "62\n",
      "63\n",
      "64\n",
      "65\n",
      "66\n",
      "67\n",
      "68\n",
      "69\n",
      "70\n",
      "71\n",
      "72\n",
      "73\n",
      "74\n",
      "75\n",
      "76\n",
      "77\n",
      "78\n",
      "79\n"
     ]
    }
   ],
   "source": [
    "df = pd.read_csv(\"/home/ys/notebook/processed/dse_list_processed.csv\")\n",
    "for index, row in df.iterrows():\n",
    "    nom=row['last_name']\n",
    "    prenom=row['first_name']\n",
    "    email=row['email']\n",
    "    fil = row['filiere']\n",
    "    id_student=add_student(prenom,nom,email,fil)\n",
    "    print(id_student)"
   ]
  },
  {
   "cell_type": "code",
   "execution_count": null,
   "id": "5f9dfbdf",
   "metadata": {},
   "outputs": [],
   "source": []
  }
 ],
 "metadata": {
  "kernelspec": {
   "display_name": "Python 3",
   "language": "python",
   "name": "python3"
  },
  "language_info": {
   "codemirror_mode": {
    "name": "ipython",
    "version": 3
   },
   "file_extension": ".py",
   "mimetype": "text/x-python",
   "name": "python",
   "nbconvert_exporter": "python",
   "pygments_lexer": "ipython3",
   "version": "3.6.9"
  }
 },
 "nbformat": 4,
 "nbformat_minor": 5
}
