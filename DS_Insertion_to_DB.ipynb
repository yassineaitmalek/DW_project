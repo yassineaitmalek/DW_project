{
 "cells": [
  {
   "cell_type": "markdown",
   "id": "4eb509d1",
   "metadata": {},
   "source": [
    " <h1>   Importing Libraries    <h1>\n"
   ]
  },
  {
   "cell_type": "code",
   "execution_count": 1,
   "id": "8005d49c",
   "metadata": {
    "execution": {
     "iopub.execute_input": "2021-06-18T22:59:29.906500Z",
     "iopub.status.busy": "2021-06-18T22:59:29.905096Z",
     "iopub.status.idle": "2021-06-18T22:59:30.235522Z",
     "shell.execute_reply": "2021-06-18T22:59:30.236278Z"
    }
   },
   "outputs": [],
   "source": [
    "import pandas as pd\n",
    "import psycopg2\n",
    "import json"
   ]
  },
  {
   "cell_type": "markdown",
   "id": "3e45e8c9",
   "metadata": {},
   "source": [
    "<h1>   Importing JSON file    <h1>"
   ]
  },
  {
   "cell_type": "code",
   "execution_count": 2,
   "id": "ac57eed3",
   "metadata": {
    "execution": {
     "iopub.execute_input": "2021-06-18T22:59:30.240335Z",
     "iopub.status.busy": "2021-06-18T22:59:30.239236Z",
     "iopub.status.idle": "2021-06-18T22:59:30.251979Z",
     "shell.execute_reply": "2021-06-18T22:59:30.251437Z"
    }
   },
   "outputs": [
    {
     "name": "stdout",
     "output_type": "stream",
     "text": [
      "Config: {'database': 'Students', 'user': 'postgres', 'password': 'a', 'host': 'localhost', 'port': '5432'}\n"
     ]
    }
   ],
   "source": [
    "with open(\"/home/ys/notebook/config.json\") as f:\n",
    "    config = json.load(f)\n",
    "print(\"Config:\",config)\n",
    "mydb = psycopg2.connect(database=config[\"database\"], user=config[\"user\"], password=config[\"password\"], host=config[\"host\"], port=config[\"port\"], options=f'-c search_path=biabsence')"
   ]
  },
  {
   "cell_type": "markdown",
   "id": "f374d19a",
   "metadata": {},
   "source": [
    "<h1>  Student Table Columns    <h1>"
   ]
  },
  {
   "cell_type": "code",
   "execution_count": 3,
   "id": "e9c09627",
   "metadata": {
    "execution": {
     "iopub.execute_input": "2021-06-18T22:59:30.262242Z",
     "iopub.status.busy": "2021-06-18T22:59:30.261621Z",
     "iopub.status.idle": "2021-06-18T22:59:30.280396Z",
     "shell.execute_reply": "2021-06-18T22:59:30.279511Z"
    }
   },
   "outputs": [
    {
     "name": "stdout",
     "output_type": "stream",
     "text": [
      "id : integer\n",
      "first_name : character varying\n",
      "last_name : character varying\n",
      "email : character varying\n",
      "filiere : character varying\n"
     ]
    }
   ],
   "source": [
    "mycursor = mydb.cursor()\n",
    "table=\"student\"\n",
    "mycursor.execute(f\"SELECT * FROM information_schema.columns WHERE table_schema = 'Students_db' AND table_name   = '{table}' ;\")\n",
    "myresult = mycursor.fetchall()\n",
    "for value in myresult:\n",
    "     print(value[3],\":\",value[7])"
   ]
  },
  {
   "cell_type": "markdown",
   "id": "d59aa425",
   "metadata": {},
   "source": [
    "<h1>  Adding student fucntion     <h1>"
   ]
  },
  {
   "cell_type": "code",
   "execution_count": 4,
   "id": "de4208df",
   "metadata": {
    "execution": {
     "iopub.execute_input": "2021-06-18T22:59:30.287724Z",
     "iopub.status.busy": "2021-06-18T22:59:30.287128Z",
     "iopub.status.idle": "2021-06-18T22:59:30.290179Z",
     "shell.execute_reply": "2021-06-18T22:59:30.290857Z"
    }
   },
   "outputs": [],
   "source": [
    "def add_student(prenom,nom,email,fil):\n",
    "    with open(\"/home/ys/notebook/config.json\") as f:\n",
    "        config = json.load(f)\n",
    "    mydb = psycopg2.connect(database=config[\"database\"], user=config[\"user\"], password=config[\"password\"], host=config[\"host\"], port=config[\"port\"], options=f'-c search_path=biabsence')\n",
    "    mycursor = mydb.cursor()\n",
    "    mycursor.execute(f\"\"\"SELECT * FROM \"Students_db\".student where email ='{email}';\"\"\")\n",
    "    myresult = mycursor.fetchall()\n",
    "    if len(myresult) != 0:\n",
    "        return myresult[0][0]\n",
    "    if len(myresult) == 0:\n",
    "        sql = \"\"\"INSERT INTO \"Students_db\".student (first_name,last_name,email,filiere) VALUES (%s,%s,%s,%s)\"\"\"\n",
    "        val = (prenom,nom,email,fil)\n",
    "        mycursor.execute(sql, val)\n",
    "        mydb.commit()\n",
    "        # print(mycursor.rowcount, \"record inserted.\")\n",
    "        mycursor.execute(f\"\"\"SELECT * FROM \"Students_db\".student where email ='{email}';\"\"\")\n",
    "        myresult = mycursor.fetchall()\n",
    "        return myresult[0][0]"
   ]
  },
  {
   "cell_type": "markdown",
   "id": "2a776b96",
   "metadata": {},
   "source": [
    "<h1>  Adding Student to table     <h1>"
   ]
  },
  {
   "cell_type": "code",
   "execution_count": 5,
   "id": "ec906310",
   "metadata": {
    "execution": {
     "iopub.execute_input": "2021-06-18T22:59:30.294786Z",
     "iopub.status.busy": "2021-06-18T22:59:30.293638Z",
     "iopub.status.idle": "2021-06-18T22:59:30.466168Z",
     "shell.execute_reply": "2021-06-18T22:59:30.465668Z"
    }
   },
   "outputs": [
    {
     "name": "stdout",
     "output_type": "stream",
     "text": [
      "1\n",
      "2\n",
      "3\n",
      "4\n",
      "5\n",
      "6\n",
      "7\n",
      "8\n",
      "9\n",
      "10\n",
      "11\n",
      "12\n",
      "13\n",
      "14\n",
      "15\n",
      "16\n",
      "17\n",
      "18\n",
      "19\n",
      "20\n",
      "21\n",
      "22\n",
      "23\n",
      "24\n",
      "25\n",
      "26\n",
      "27\n",
      "28\n",
      "29\n",
      "30\n",
      "31\n",
      "32\n"
     ]
    }
   ],
   "source": [
    "df = pd.read_csv(\"/home/ys/notebook/processed/ds_list_processed.csv\")\n",
    "for index, row in df.iterrows():\n",
    "    nom=row['last_name']\n",
    "    prenom=row['first_name']\n",
    "    email=row['email']\n",
    "    fil = row['filiere']\n",
    "    id_student=add_student(prenom,nom,email,fil)\n",
    "    print(id_student)"
   ]
  },
  {
   "cell_type": "code",
   "execution_count": null,
   "id": "5f9dfbdf",
   "metadata": {},
   "outputs": [],
   "source": []
  }
 ],
 "metadata": {
  "kernelspec": {
   "display_name": "Python 3",
   "language": "python",
   "name": "python3"
  },
  "language_info": {
   "codemirror_mode": {
    "name": "ipython",
    "version": 3
   },
   "file_extension": ".py",
   "mimetype": "text/x-python",
   "name": "python",
   "nbconvert_exporter": "python",
   "pygments_lexer": "ipython3",
   "version": "3.6.9"
  }
 },
 "nbformat": 4,
 "nbformat_minor": 5
}
