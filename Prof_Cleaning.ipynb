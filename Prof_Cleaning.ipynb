{
 "cells": [
  {
   "cell_type": "markdown",
   "id": "c609d338",
   "metadata": {},
   "source": [
    "<h1> Importing Libraries    <h1>\n",
    "\n"
   ]
  },
  {
   "cell_type": "code",
   "execution_count": 1,
   "id": "866897d8",
   "metadata": {
    "execution": {
     "iopub.execute_input": "2021-06-18T22:59:22.643776Z",
     "iopub.status.busy": "2021-06-18T22:59:22.642289Z",
     "iopub.status.idle": "2021-06-18T22:59:22.959483Z",
     "shell.execute_reply": "2021-06-18T22:59:22.960716Z"
    }
   },
   "outputs": [],
   "source": [
    "import pandas as pd\n",
    "import os\n",
    "import json"
   ]
  },
  {
   "cell_type": "markdown",
   "id": "be645757",
   "metadata": {},
   "source": [
    "<h1>   Creating other columns  <h1>"
   ]
  },
  {
   "cell_type": "code",
   "execution_count": 2,
   "id": "7c9ae109",
   "metadata": {
    "execution": {
     "iopub.execute_input": "2021-06-18T22:59:22.964581Z",
     "iopub.status.busy": "2021-06-18T22:59:22.963594Z",
     "iopub.status.idle": "2021-06-18T22:59:22.994139Z",
     "shell.execute_reply": "2021-06-18T22:59:22.994852Z"
    }
   },
   "outputs": [
    {
     "data": {
      "text/html": [
       "<div>\n",
       "<style scoped>\n",
       "    .dataframe tbody tr th:only-of-type {\n",
       "        vertical-align: middle;\n",
       "    }\n",
       "\n",
       "    .dataframe tbody tr th {\n",
       "        vertical-align: top;\n",
       "    }\n",
       "\n",
       "    .dataframe thead th {\n",
       "        text-align: right;\n",
       "    }\n",
       "</style>\n",
       "<table border=\"1\" class=\"dataframe\">\n",
       "  <thead>\n",
       "    <tr style=\"text-align: right;\">\n",
       "      <th></th>\n",
       "      <th>first_name</th>\n",
       "      <th>last_name</th>\n",
       "      <th>email</th>\n",
       "    </tr>\n",
       "  </thead>\n",
       "  <tbody>\n",
       "    <tr>\n",
       "      <th>0</th>\n",
       "      <td>Imade</td>\n",
       "      <td>BENELALLAM</td>\n",
       "      <td>i.benelallam@insea.ac.ma</td>\n",
       "    </tr>\n",
       "  </tbody>\n",
       "</table>\n",
       "</div>"
      ],
      "text/plain": [
       "  first_name   last_name                     email\n",
       "0      Imade  BENELALLAM  i.benelallam@insea.ac.ma"
      ]
     },
     "execution_count": 1,
     "metadata": {},
     "output_type": "execute_result"
    }
   ],
   "source": [
    "list_students = pd.read_csv(\"./input/prof_list_input.csv\")\n",
    "nom=[]\n",
    "prenom=[]\n",
    "email=[]\n",
    "for index, row in list_students.iterrows():\n",
    "    Nom_=row['Nom']\n",
    "  \n",
    "    \n",
    "    prenom_ = Nom_.split(\" \")[0]\n",
    "    nom_ = Nom_.replace(prenom_+\" \",\"\")\n",
    "    l = nom_.split(' ')\n",
    "    name = \"\"\n",
    "    for i in l :\n",
    "        name += i\n",
    "    \n",
    "    first = prenom_.split('-')\n",
    "    fst = ''\n",
    "    for j in first :\n",
    "        fst += j[0]\n",
    "        \n",
    "    email_=f\"{fst.lower()}.{name.lower()}@insea.ac.ma\"\n",
    "    \n",
    "    nom.append(nom_)\n",
    "    prenom.append(prenom_)\n",
    "    email.append(email_)\n",
    "\n",
    "  \n",
    "\n",
    "df = pd.DataFrame(columns = ['first_name', 'last_name','email'])\n",
    "\n",
    "df['first_name'] = prenom\n",
    "df['last_name'] = nom\n",
    "df['email'] = email\n",
    "\n",
    "df"
   ]
  },
  {
   "cell_type": "markdown",
   "id": "35a57be8",
   "metadata": {},
   "source": [
    "<h1>  Saving   <h1>"
   ]
  },
  {
   "cell_type": "code",
   "execution_count": 3,
   "id": "315378b3",
   "metadata": {
    "execution": {
     "iopub.execute_input": "2021-06-18T22:59:22.998324Z",
     "iopub.status.busy": "2021-06-18T22:59:22.997794Z",
     "iopub.status.idle": "2021-06-18T22:59:23.003020Z",
     "shell.execute_reply": "2021-06-18T22:59:23.003772Z"
    }
   },
   "outputs": [],
   "source": [
    "output = 'prof_list_processed.csv'\n",
    "\n",
    "df.to_csv(f\"/home/ys/notebook/processed/{output}\",index=False)\n"
   ]
  },
  {
   "cell_type": "code",
   "execution_count": null,
   "id": "efa094cf",
   "metadata": {},
   "outputs": [],
   "source": []
  }
 ],
 "metadata": {
  "kernelspec": {
   "display_name": "Python 3",
   "language": "python",
   "name": "python3"
  },
  "language_info": {
   "codemirror_mode": {
    "name": "ipython",
    "version": 3
   },
   "file_extension": ".py",
   "mimetype": "text/x-python",
   "name": "python",
   "nbconvert_exporter": "python",
   "pygments_lexer": "ipython3",
   "version": "3.6.9"
  }
 },
 "nbformat": 4,
 "nbformat_minor": 5
}
