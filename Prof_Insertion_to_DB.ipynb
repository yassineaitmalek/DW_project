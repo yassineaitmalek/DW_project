{
 "cells": [
  {
   "cell_type": "markdown",
   "id": "9e8f42f6",
   "metadata": {},
   "source": [
    "<h1>  Importing Libraries   <h1>"
   ]
  },
  {
   "cell_type": "code",
   "execution_count": 1,
   "id": "4845f545",
   "metadata": {
    "execution": {
     "iopub.execute_input": "2021-06-18T22:59:41.140098Z",
     "iopub.status.busy": "2021-06-18T22:59:41.136541Z",
     "iopub.status.idle": "2021-06-18T22:59:41.488927Z",
     "shell.execute_reply": "2021-06-18T22:59:41.490413Z"
    }
   },
   "outputs": [],
   "source": [
    "import pandas as pd\n",
    "import psycopg2\n",
    "import json"
   ]
  },
  {
   "cell_type": "markdown",
   "id": "7940db80",
   "metadata": {},
   "source": [
    "<h1>   Importing JSON file  <h1>"
   ]
  },
  {
   "cell_type": "code",
   "execution_count": 2,
   "id": "ac57eed3",
   "metadata": {
    "execution": {
     "iopub.execute_input": "2021-06-18T22:59:41.495186Z",
     "iopub.status.busy": "2021-06-18T22:59:41.493505Z",
     "iopub.status.idle": "2021-06-18T22:59:41.505705Z",
     "shell.execute_reply": "2021-06-18T22:59:41.505193Z"
    }
   },
   "outputs": [
    {
     "name": "stdout",
     "output_type": "stream",
     "text": [
      "Config: {'database': 'Students', 'user': 'postgres', 'password': 'a', 'host': 'localhost', 'port': '5432'}\n"
     ]
    }
   ],
   "source": [
    "with open(\"/home/ys/notebook/config.json\") as f:\n",
    "    config = json.load(f)\n",
    "print(\"Config:\",config)\n",
    "mydb = psycopg2.connect(database=config[\"database\"], user=config[\"user\"], password=config[\"password\"], host=config[\"host\"], port=config[\"port\"], options=f'-c search_path=biabsence')"
   ]
  },
  {
   "cell_type": "markdown",
   "id": "663c4b9d",
   "metadata": {},
   "source": [
    "<h1> Professor tble columns    <h1>"
   ]
  },
  {
   "cell_type": "code",
   "execution_count": 3,
   "id": "e9c09627",
   "metadata": {
    "execution": {
     "iopub.execute_input": "2021-06-18T22:59:41.514240Z",
     "iopub.status.busy": "2021-06-18T22:59:41.513669Z",
     "iopub.status.idle": "2021-06-18T22:59:41.525850Z",
     "shell.execute_reply": "2021-06-18T22:59:41.524794Z"
    }
   },
   "outputs": [
    {
     "name": "stdout",
     "output_type": "stream",
     "text": [
      "id : integer\n",
      "first_name : character varying\n",
      "last_name : character varying\n",
      "email : character varying\n"
     ]
    }
   ],
   "source": [
    "mycursor = mydb.cursor()\n",
    "table=\"professor\"\n",
    "mycursor.execute(f\"SELECT * FROM information_schema.columns WHERE table_schema = 'Students_db' AND table_name   = '{table}' ;\")\n",
    "myresult = mycursor.fetchall()\n",
    "for value in myresult:\n",
    "     print(value[3],\":\",value[7])"
   ]
  },
  {
   "cell_type": "markdown",
   "id": "ccbf6336",
   "metadata": {},
   "source": [
    "<h1>  Adding professor function   <h1>"
   ]
  },
  {
   "cell_type": "code",
   "execution_count": 4,
   "id": "de4208df",
   "metadata": {
    "execution": {
     "iopub.execute_input": "2021-06-18T22:59:41.534168Z",
     "iopub.status.busy": "2021-06-18T22:59:41.533627Z",
     "iopub.status.idle": "2021-06-18T22:59:41.536528Z",
     "shell.execute_reply": "2021-06-18T22:59:41.537217Z"
    }
   },
   "outputs": [],
   "source": [
    "def add_professor(prenom,nom,email):\n",
    "    with open(\"/home/ys/notebook/config.json\") as f:\n",
    "        config = json.load(f)\n",
    "    \n",
    "    mydb = psycopg2.connect(database=config[\"database\"], user=config[\"user\"], password=config[\"password\"], host=config[\"host\"], port=config[\"port\"], options=f'-c search_path=biabsence')\n",
    "    mycursor = mydb.cursor()\n",
    "    mycursor.execute(f\"\"\"SELECT * FROM \"Students_db\".professor where email ='{email}';\"\"\")\n",
    "    myresult = mycursor.fetchall()\n",
    "    if len(myresult) != 0:\n",
    "        return myresult[0][0]\n",
    "    if len(myresult) == 0:\n",
    "        sql = \"\"\"INSERT INTO \"Students_db\".professor (first_name,last_name,email) VALUES (%s,%s,%s)\"\"\"\n",
    "        val = (prenom,nom,email)\n",
    "        mycursor.execute(sql, val)\n",
    "        mydb.commit()\n",
    "        # print(mycursor.rowcount, \"record inserted.\")\n",
    "        mycursor.execute(f\"\"\"SELECT * FROM \"Students_db\".professor where email ='{email}';\"\"\")\n",
    "        myresult = mycursor.fetchall()\n",
    "        return myresult[0][0]"
   ]
  },
  {
   "cell_type": "markdown",
   "id": "83239501",
   "metadata": {},
   "source": [
    "<h1>   Adding Professor to table  <h1>"
   ]
  },
  {
   "cell_type": "code",
   "execution_count": 5,
   "id": "ec906310",
   "metadata": {
    "execution": {
     "iopub.execute_input": "2021-06-18T22:59:41.540899Z",
     "iopub.status.busy": "2021-06-18T22:59:41.539289Z",
     "iopub.status.idle": "2021-06-18T22:59:41.556025Z",
     "shell.execute_reply": "2021-06-18T22:59:41.555169Z"
    }
   },
   "outputs": [
    {
     "name": "stdout",
     "output_type": "stream",
     "text": [
      "1\n"
     ]
    }
   ],
   "source": [
    "df = pd.read_csv(\"/home/ys/notebook/processed/prof_list_processed.csv\")\n",
    "for index, row in df.iterrows():\n",
    "    nom=row['last_name']\n",
    "    prenom=row['first_name']\n",
    "    email=row['email']\n",
    "\n",
    "    id_professor=add_professor(prenom,nom,email)\n",
    "    print(id_professor)"
   ]
  },
  {
   "cell_type": "code",
   "execution_count": null,
   "id": "5f9dfbdf",
   "metadata": {},
   "outputs": [],
   "source": []
  }
 ],
 "metadata": {
  "kernelspec": {
   "display_name": "Python 3",
   "language": "python",
   "name": "python3"
  },
  "language_info": {
   "codemirror_mode": {
    "name": "ipython",
    "version": 3
   },
   "file_extension": ".py",
   "mimetype": "text/x-python",
   "name": "python",
   "nbconvert_exporter": "python",
   "pygments_lexer": "ipython3",
   "version": "3.6.9"
  }
 },
 "nbformat": 4,
 "nbformat_minor": 5
}
