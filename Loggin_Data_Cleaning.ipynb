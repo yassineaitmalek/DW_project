{
 "cells": [
  {
   "cell_type": "markdown",
   "id": "70dc2599",
   "metadata": {},
   "source": [
    "<h1>  Importing Libraries   <h1>"
   ]
  },
  {
   "cell_type": "code",
   "execution_count": 1,
   "id": "36753129",
   "metadata": {
    "execution": {
     "iopub.execute_input": "2021-06-18T22:59:46.448996Z",
     "iopub.status.busy": "2021-06-18T22:59:46.442514Z",
     "iopub.status.idle": "2021-06-18T22:59:46.808524Z",
     "shell.execute_reply": "2021-06-18T22:59:46.809334Z"
    }
   },
   "outputs": [],
   "source": [
    "import pandas as pd\n",
    "import psycopg2\n",
    "import os\n",
    "from datetime import datetime"
   ]
  },
  {
   "cell_type": "markdown",
   "id": "1f19c9a6",
   "metadata": {},
   "source": [
    "<h1>   DataFrame Header  <h1>"
   ]
  },
  {
   "cell_type": "code",
   "execution_count": 2,
   "id": "05a93de0",
   "metadata": {
    "execution": {
     "iopub.execute_input": "2021-06-18T22:59:46.813493Z",
     "iopub.status.busy": "2021-06-18T22:59:46.812435Z",
     "iopub.status.idle": "2021-06-18T22:59:46.817148Z",
     "shell.execute_reply": "2021-06-18T22:59:46.817911Z"
    }
   },
   "outputs": [],
   "source": [
    "header_df = ['first_name',\n",
    " 'last_name'      ,\n",
    "\"date\",\n",
    " \"arrive_time\",\n",
    " 'departure_time',\n",
    " 'duration',\n",
    " 'email',\n",
    " 'role',\n",
    "  'subject'      ]\n",
    "\n"
   ]
  },
  {
   "cell_type": "markdown",
   "id": "329206d0",
   "metadata": {},
   "source": [
    "<h1>  Cleaning and Saving    <h1>"
   ]
  },
  {
   "cell_type": "code",
   "execution_count": 3,
   "id": "8b43e6cf",
   "metadata": {
    "execution": {
     "iopub.execute_input": "2021-06-18T22:59:46.821233Z",
     "iopub.status.busy": "2021-06-18T22:59:46.820154Z",
     "iopub.status.idle": "2021-06-18T22:59:50.456481Z",
     "shell.execute_reply": "2021-06-18T22:59:50.457207Z"
    }
   },
   "outputs": [
    {
     "name": "stdout",
     "output_type": "stream",
     "text": [
      "Done :1\n",
      "Done :2\n",
      "Done :3\n",
      "Done :4\n",
      "Done :5\n",
      "Done Total\n"
     ]
    }
   ],
   "source": [
    "for m in range (1,6) :\n",
    "    input = \"/home/ys/notebook/input/meetings_input/meeting_(\"+str(m)+\")_list_input.csv\"\n",
    "    list_students = pd.read_csv(input)\n",
    "    fname = []\n",
    "    lname = []\n",
    "    date = []\n",
    "    arrive_time = []\n",
    "    departure_time = []\n",
    "    duration = []\n",
    "    email = []\n",
    "    role = []\n",
    "    subject = []\n",
    "    list_students_dse = pd.read_csv(\"/home/ys/notebook/processed/dse_list_processed.csv\")\n",
    "    list_students_ds = pd.read_csv(\"/home/ys/notebook/processed/ds_list_processed.csv\")\n",
    "    list_profs = pd.read_csv(\"/home/ys/notebook/processed/prof_list_processed.csv\") \n",
    "    for index, row in list_students.iterrows():\n",
    "        data = row[\"Nom complet\\tHeure d'arrivée\\tHeure de départ\\tDurée\\tE-mail\\tRôle\"]\n",
    "        data = data.split(\"\\t\")\n",
    "        \n",
    "        temp = data[1].replace(\"à\",'')\n",
    "        temp = temp.split(' ')\n",
    "        temp2 = temp[0].split('/')\n",
    "        temp2 = temp2[2]+'/'+temp2[1]+'/'+temp2[0]\n",
    "        date.append(temp2)\n",
    "        arrive_time_dt = temp[2]\n",
    "        arrive_time.append(arrive_time_dt)\n",
    "        temp = data[2].replace(\"à\",'')\n",
    "        temp = temp.split(' ')\n",
    "        departure_time_dt = temp[2]\n",
    "        departure_time.append(departure_time_dt)\n",
    "        delta = datetime.strptime(departure_time_dt, '%H:%M:%S') -  datetime.strptime(arrive_time_dt, '%H:%M:%S')\n",
    "        #print(delta)\n",
    "        duration.append( str(delta)  )\n",
    "        email.append(data[4])\n",
    "        role.append(data[5].replace(\"é\",\"e\"))\n",
    "        subject.append('Data Warehouse')\n",
    "        a = 0\n",
    "        b=0\n",
    "        c=0\n",
    "        for index1, row1 in list_students_dse.iterrows():\n",
    "            if row1[\"email\"] == data[4] :\n",
    "                fname.append(row1[\"first_name\"])\n",
    "                lname.append(row1[\"last_name\"])\n",
    "                a = 1\n",
    "\n",
    "        for index1, row1 in list_students_ds.iterrows():\n",
    "            if row1[\"email\"] == data[4] :\n",
    "                fname.append(row1[\"first_name\"])\n",
    "                lname.append(row1[\"last_name\"])\n",
    "                b = 1 \n",
    "\n",
    "        for index1, row1 in list_profs.iterrows():\n",
    "            if row1[\"email\"] == data[4] :\n",
    "                fname.append(row1[\"first_name\"])\n",
    "                lname.append(row1[\"last_name\"])\n",
    "                c = 1 \n",
    "        if  a==0 and b==0 and c==0  : print(data[4])\n",
    "        \n",
    "    df = pd.DataFrame(columns = header_df )\n",
    "\n",
    "    df['first_name'] = fname\n",
    "    df['last_name'  ] = lname\n",
    "    df['date'  ] = date\n",
    "    df[\"arrive_time\"] = arrive_time\n",
    "    df[ 'departure_time'] = departure_time\n",
    "    df[ 'duration'] = duration\n",
    "    df[ 'email'] = email\n",
    "    df[ 'role'] = role\n",
    "    df['subject'] = subject\n",
    "    \n",
    "    \n",
    "    output = \"/home/ys/notebook/processed/meetings_processed/meeting_(\"+str(m)+\")_list_processed.csv\"\n",
    "    df.to_csv(output,index=False)\n",
    "    print(\"Done :\"+str(m))\n",
    "\n",
    "print(\"Done Total\")"
   ]
  },
  {
   "cell_type": "markdown",
   "id": "11ca02f8",
   "metadata": {},
   "source": []
  },
  {
   "cell_type": "code",
   "execution_count": null,
   "id": "e256eaa5",
   "metadata": {},
   "outputs": [],
   "source": []
  },
  {
   "cell_type": "code",
   "execution_count": null,
   "id": "912a4c9e",
   "metadata": {},
   "outputs": [],
   "source": []
  }
 ],
 "metadata": {
  "kernelspec": {
   "display_name": "Python 3",
   "language": "python",
   "name": "python3"
  },
  "language_info": {
   "codemirror_mode": {
    "name": "ipython",
    "version": 3
   },
   "file_extension": ".py",
   "mimetype": "text/x-python",
   "name": "python",
   "nbconvert_exporter": "python",
   "pygments_lexer": "ipython3",
   "version": "3.6.9"
  }
 },
 "nbformat": 4,
 "nbformat_minor": 5
}
