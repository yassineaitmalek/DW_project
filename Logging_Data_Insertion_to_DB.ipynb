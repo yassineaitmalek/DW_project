{
 "cells": [
  {
   "cell_type": "markdown",
   "id": "b210fa44",
   "metadata": {},
   "source": [
    "<h1>  Importing Libraries  </h1>\n"
   ]
  },
  {
   "cell_type": "code",
   "execution_count": 1,
   "id": "d7c48858",
   "metadata": {
    "execution": {
     "iopub.execute_input": "2021-06-18T22:59:57.503975Z",
     "iopub.status.busy": "2021-06-18T22:59:57.502587Z",
     "iopub.status.idle": "2021-06-18T22:59:57.890673Z",
     "shell.execute_reply": "2021-06-18T22:59:57.891463Z"
    }
   },
   "outputs": [],
   "source": [
    "import pandas as pd\n",
    "import pandasql as ps\n",
    "import psycopg2\n",
    "import numpy as np\n",
    "import json\n",
    "from datetime import datetime\n",
    "from datetime import timedelta\n",
    "\n"
   ]
  },
  {
   "cell_type": "markdown",
   "id": "e15a463f",
   "metadata": {},
   "source": [
    "<h1>  Loading JSON file  </h1>\n"
   ]
  },
  {
   "cell_type": "code",
   "execution_count": 2,
   "id": "1f512e3d",
   "metadata": {
    "execution": {
     "iopub.execute_input": "2021-06-18T22:59:57.895587Z",
     "iopub.status.busy": "2021-06-18T22:59:57.894551Z",
     "iopub.status.idle": "2021-06-18T22:59:57.906079Z",
     "shell.execute_reply": "2021-06-18T22:59:57.905618Z"
    }
   },
   "outputs": [
    {
     "name": "stdout",
     "output_type": "stream",
     "text": [
      "Config: {'database': 'Students', 'user': 'postgres', 'password': 'a', 'host': 'localhost', 'port': '5432'}\n"
     ]
    }
   ],
   "source": [
    "with open(\"/home/ys/notebook/config.json\") as f:\n",
    "    config = json.load(f)\n",
    "print(\"Config:\",config)\n",
    "mydb = psycopg2.connect(database=config[\"database\"], user=config[\"user\"], password=config[\"password\"], host=config[\"host\"], port=config[\"port\"], options=f'-c search_path=biabsence')\n"
   ]
  },
  {
   "cell_type": "markdown",
   "id": "4b53d492",
   "metadata": {},
   "source": [
    "<h1>  Time Table  </h1>\n"
   ]
  },
  {
   "cell_type": "code",
   "execution_count": 3,
   "id": "dc39fddb",
   "metadata": {
    "execution": {
     "iopub.execute_input": "2021-06-18T22:59:57.912302Z",
     "iopub.status.busy": "2021-06-18T22:59:57.911737Z",
     "iopub.status.idle": "2021-06-18T22:59:57.925500Z",
     "shell.execute_reply": "2021-06-18T22:59:57.924400Z"
    }
   },
   "outputs": [
    {
     "name": "stdout",
     "output_type": "stream",
     "text": [
      "id : integer\n",
      "day : date\n"
     ]
    }
   ],
   "source": [
    "mycursor = mydb.cursor()\n",
    "table=\"time\"\n",
    "mycursor.execute(f\"SELECT * FROM information_schema.columns WHERE table_schema = 'Students_db' AND table_name   = '{table}' ;\")\n",
    "myresult = mycursor.fetchall()\n",
    "for value in myresult:\n",
    "     print(value[3],\":\",value[7])"
   ]
  },
  {
   "cell_type": "markdown",
   "id": "04869f95",
   "metadata": {},
   "source": [
    "<h1>  Adding days to Time table  </h1>\n"
   ]
  },
  {
   "cell_type": "code",
   "execution_count": 4,
   "id": "03099c8e",
   "metadata": {
    "execution": {
     "iopub.execute_input": "2021-06-18T22:59:57.933033Z",
     "iopub.status.busy": "2021-06-18T22:59:57.932403Z",
     "iopub.status.idle": "2021-06-18T22:59:57.935496Z",
     "shell.execute_reply": "2021-06-18T22:59:57.936165Z"
    }
   },
   "outputs": [],
   "source": [
    "def add_day(day):\n",
    "    with open(\"/home/ys/notebook/config.json\") as f:\n",
    "        config = json.load(f)\n",
    "   \n",
    "    mydb = psycopg2.connect(database=config[\"database\"], user=config[\"user\"], password=config[\"password\"], host=config[\"host\"], port=config[\"port\"], options=f'-c search_path=biabsence')\n",
    "    mycursor = mydb.cursor()\n",
    "    mycursor.execute(f\"\"\"SELECT * FROM \"Students_db\".time where day ='{day}';\"\"\")\n",
    "    myresult = mycursor.fetchall()\n",
    "    if len(myresult) != 0:\n",
    "        return myresult[0][0]\n",
    "    if len(myresult) == 0:\n",
    "        sql = \"\"\"INSERT INTO \"Students_db\".time (day) VALUES ( ' \"\"\"+day+ \"\"\"')\"\"\"\n",
    "        val = day\n",
    "        mycursor.execute(sql)\n",
    "        mydb.commit()\n",
    "        # print(mycursor.rowcount, \"record inserted.\")\n",
    "        mycursor.execute(f\"\"\"SELECT * FROM \"Students_db\".time where day ='{day}';\"\"\")\n",
    "        myresult = mycursor.fetchall()\n",
    "        return myresult[0][0]"
   ]
  },
  {
   "cell_type": "code",
   "execution_count": 5,
   "id": "8ff57d5f",
   "metadata": {
    "execution": {
     "iopub.execute_input": "2021-06-18T22:59:57.940096Z",
     "iopub.status.busy": "2021-06-18T22:59:57.938846Z",
     "iopub.status.idle": "2021-06-18T22:59:57.999118Z",
     "shell.execute_reply": "2021-06-18T22:59:57.998583Z"
    }
   },
   "outputs": [
    {
     "name": "stdout",
     "output_type": "stream",
     "text": [
      "1  :  2021/03/30\n",
      "2  :  2021/04/06\n",
      "3  :  2021/04/14\n",
      "4  :  2021/04/20\n",
      "5  :  2021/05/05\n"
     ]
    }
   ],
   "source": [
    "for m in range (1,6) :\n",
    "    df = pd.read_csv(\"/home/ys/notebook/processed/meetings_processed/meeting_(\"+str(m)+\")_list_processed.csv\")\n",
    "    day=df[\"date\"][1]\n",
    "\n",
    "    id_day=add_day(day)\n",
    "    print(id_day,\" : \",day)"
   ]
  },
  {
   "cell_type": "markdown",
   "id": "9fef130a",
   "metadata": {},
   "source": [
    "<h1>  Subject table  </h1>\n"
   ]
  },
  {
   "cell_type": "code",
   "execution_count": 6,
   "id": "055cce48",
   "metadata": {
    "execution": {
     "iopub.execute_input": "2021-06-18T22:59:58.006013Z",
     "iopub.status.busy": "2021-06-18T22:59:58.005454Z",
     "iopub.status.idle": "2021-06-18T22:59:58.015800Z",
     "shell.execute_reply": "2021-06-18T22:59:58.016216Z"
    }
   },
   "outputs": [
    {
     "name": "stdout",
     "output_type": "stream",
     "text": [
      "id : integer\n",
      "subname : character varying\n",
      "id_prof : integer\n"
     ]
    }
   ],
   "source": [
    "mycursor = mydb.cursor()\n",
    "table=\"subject\"\n",
    "mycursor.execute(f\"SELECT * FROM information_schema.columns WHERE table_schema = 'Students_db' AND table_name   = '{table}' ;\")\n",
    "myresult = mycursor.fetchall()\n",
    "for value in myresult:\n",
    "     print(value[3],\":\",value[7])"
   ]
  },
  {
   "cell_type": "markdown",
   "id": "de2f6b0b",
   "metadata": {},
   "source": [
    "<h1> Adding to Subject table     </h1>\n"
   ]
  },
  {
   "cell_type": "code",
   "execution_count": 7,
   "id": "7b8c76d9",
   "metadata": {
    "execution": {
     "iopub.execute_input": "2021-06-18T22:59:58.022263Z",
     "iopub.status.busy": "2021-06-18T22:59:58.021620Z",
     "iopub.status.idle": "2021-06-18T22:59:58.026105Z",
     "shell.execute_reply": "2021-06-18T22:59:58.026884Z"
    }
   },
   "outputs": [],
   "source": [
    "def add_subject(subject,id_prof):\n",
    "    with open(\"/home/ys/notebook/config.json\") as f:\n",
    "        config = json.load(f)\n",
    "    mydb = psycopg2.connect(database=config[\"database\"], user=config[\"user\"], password=config[\"password\"], host=config[\"host\"], port=config[\"port\"], options=f'-c search_path=biabsence')\n",
    "    mycursor = mydb.cursor()\n",
    "    mycursor.execute(f\"\"\"SELECT * FROM \"Students_db\".subject where subname ='{subject}' and id_prof = '{id_prof}';\"\"\")\n",
    "    myresult = mycursor.fetchall()\n",
    "    if len(myresult) != 0:\n",
    "        return myresult[0][0]\n",
    "    if len(myresult) == 0:\n",
    "        sql = \"\"\"INSERT INTO \"Students_db\".subject (subname,id_prof) VALUES  ('\"\"\"+subject+\"\"\"','\"\"\"+str(id_prof)+\"\"\"')\"\"\"\n",
    "        val = (subject,id_prof)\n",
    "        mycursor.execute(sql)\n",
    "        mydb.commit()\n",
    "        # print(mycursor.rowcount, \"record inserted.\")\n",
    "        mycursor.execute(f\"\"\"SELECT * FROM \"Students_db\".subject where subname ='{subject}';\"\"\")\n",
    "        myresult = mycursor.fetchall()\n",
    "        return myresult[0][0]"
   ]
  },
  {
   "cell_type": "code",
   "execution_count": 8,
   "id": "4d6846bc",
   "metadata": {
    "execution": {
     "iopub.execute_input": "2021-06-18T22:59:58.030354Z",
     "iopub.status.busy": "2021-06-18T22:59:58.029229Z",
     "iopub.status.idle": "2021-06-18T22:59:58.035678Z",
     "shell.execute_reply": "2021-06-18T22:59:58.036436Z"
    }
   },
   "outputs": [],
   "source": [
    "def get_id_prof(email):\n",
    "    with open(\"/home/ys/notebook/config.json\") as f:\n",
    "        config = json.load(f)\n",
    "    mydb = psycopg2.connect(database=config[\"database\"], user=config[\"user\"], password=config[\"password\"], host=config[\"host\"], port=config[\"port\"], options=f'-c search_path=biabsence')\n",
    "    mycursor = mydb.cursor()\n",
    "    mycursor.execute(f\"\"\"SELECT id FROM \"Students_db\".professor where email ='{email}' ;\"\"\")\n",
    "    myresult = mycursor.fetchall()\n",
    "    if len(myresult) != 0:\n",
    "        return myresult[0][0]\n"
   ]
  },
  {
   "cell_type": "code",
   "execution_count": 9,
   "id": "4bef7d94",
   "metadata": {
    "execution": {
     "iopub.execute_input": "2021-06-18T22:59:58.042124Z",
     "iopub.status.busy": "2021-06-18T22:59:58.040989Z",
     "iopub.status.idle": "2021-06-18T22:59:58.154008Z",
     "shell.execute_reply": "2021-06-18T22:59:58.153458Z"
    }
   },
   "outputs": [
    {
     "name": "stdout",
     "output_type": "stream",
     "text": [
      "subject :  1  subname :  Data Warehouse  id prof 1\n",
      "subject :  1  subname :  Data Warehouse  id prof 1\n",
      "subject :  1  subname :  Data Warehouse  id prof 1\n",
      "subject :  1  subname :  Data Warehouse  id prof 1\n",
      "subject :  1  subname :  Data Warehouse  id prof 1\n"
     ]
    }
   ],
   "source": [
    "for m in range (1,6) :\n",
    "    df = pd.read_csv(\"/home/ys/notebook/processed/meetings_processed/meeting_(\"+str(m)+\")_list_processed.csv\")\n",
    "\n",
    "    email = ps.sqldf(\"select email from df where role = 'Organisateur'\", locals())[\"email\"][0]\n",
    "    subject = df[\"subject\"][1]\n",
    "\n",
    "    id_prof = get_id_prof(email)\n",
    "    id_sub = add_subject(subject,id_prof)\n",
    "\n",
    "    print('subject : ',id_sub,\" subname : \",subject,' id prof',id_prof)"
   ]
  },
  {
   "cell_type": "markdown",
   "id": "9978feff",
   "metadata": {},
   "source": [
    "<h1> Making Data fit our needs   </h1>\n"
   ]
  },
  {
   "cell_type": "code",
   "execution_count": 10,
   "id": "8b60200a",
   "metadata": {
    "execution": {
     "iopub.execute_input": "2021-06-18T22:59:58.163617Z",
     "iopub.status.busy": "2021-06-18T22:59:58.162925Z",
     "iopub.status.idle": "2021-06-18T22:59:58.171176Z",
     "shell.execute_reply": "2021-06-18T22:59:58.171859Z"
    }
   },
   "outputs": [],
   "source": [
    "def get_id_student(email):\n",
    "    with open(\"/home/ys/notebook/config.json\") as f:\n",
    "        config = json.load(f)\n",
    "    mydb = psycopg2.connect(database=config[\"database\"], user=config[\"user\"], password=config[\"password\"], host=config[\"host\"], port=config[\"port\"], options=f'-c search_path=biabsence')\n",
    "    mycursor = mydb.cursor()\n",
    "    mycursor.execute(f\"\"\"SELECT id FROM \"Students_db\".student where email ='{email}' ;\"\"\")\n",
    "    myresult = mycursor.fetchall()\n",
    "    if len(myresult) != 0:\n",
    "        return myresult[0][0]\n",
    "    \n",
    "def get_id_time(day):\n",
    "    with open(\"/home/ys/notebook/config.json\") as f:\n",
    "        config = json.load(f)\n",
    "    mydb = psycopg2.connect(database=config[\"database\"], user=config[\"user\"], password=config[\"password\"], host=config[\"host\"], port=config[\"port\"], options=f'-c search_path=biabsence')\n",
    "    mycursor = mydb.cursor()\n",
    "    mycursor.execute(f\"\"\"SELECT id FROM \"Students_db\".time where day ='{day}' ;\"\"\")\n",
    "    myresult = mycursor.fetchall()\n",
    "    if len(myresult) != 0:\n",
    "        return myresult[0][0]\n",
    "    \n",
    "def get_id_subject(email,subname):\n",
    "    with open(\"/home/ys/notebook/config.json\") as f:\n",
    "        config = json.load(f)\n",
    "    id_prof = get_id_prof(email)\n",
    "    mydb = psycopg2.connect(database=config[\"database\"], user=config[\"user\"], password=config[\"password\"], host=config[\"host\"], port=config[\"port\"], options=f'-c search_path=biabsence')\n",
    "    mycursor = mydb.cursor()\n",
    "    mycursor.execute(f\"\"\"SELECT id FROM \"Students_db\".subject where subname ='{subname}' and id_prof = '{str(id_prof)}' ;\"\"\")\n",
    "    myresult = mycursor.fetchall()\n",
    "    if len(myresult) != 0:\n",
    "        return myresult[0][0]\n",
    "\n",
    "def get_all_student_emails():\n",
    "    with open(\"/home/ys/notebook/config.json\") as f:\n",
    "        config = json.load(f)\n",
    "    df_email =  pd.DataFrame(columns = [\"email\"] )\n",
    "    email = []\n",
    "    mydb = psycopg2.connect(database=config[\"database\"], user=config[\"user\"], password=config[\"password\"], host=config[\"host\"], port=config[\"port\"], options=f'-c search_path=biabsence')\n",
    "    mycursor = mydb.cursor()\n",
    "    mycursor.execute(f\"\"\"SELECT email FROM \"Students_db\".student ;\"\"\")\n",
    "    myresult = mycursor.fetchall()\n",
    "    if len(myresult) != 0:\n",
    "        for j in range(len(myresult)) :\n",
    "            \n",
    "            email.append((myresult[j][0]))\n",
    "        #print(email)           \n",
    "        df_email [\"email\"] = email\n",
    "        \n",
    "        return df_email"
   ]
  },
  {
   "cell_type": "code",
   "execution_count": 11,
   "id": "4dec7d2b",
   "metadata": {
    "execution": {
     "iopub.execute_input": "2021-06-18T22:59:58.175285Z",
     "iopub.status.busy": "2021-06-18T22:59:58.174265Z",
     "iopub.status.idle": "2021-06-18T22:59:58.178593Z",
     "shell.execute_reply": "2021-06-18T22:59:58.179273Z"
    }
   },
   "outputs": [],
   "source": [
    "header_df = ['id_student',\"id_time\",'id_subject','arrive_time','duration',\"is_abs\",\"is_late\"]\n"
   ]
  },
  {
   "cell_type": "code",
   "execution_count": 12,
   "id": "4281f786",
   "metadata": {
    "execution": {
     "iopub.execute_input": "2021-06-18T22:59:58.182864Z",
     "iopub.status.busy": "2021-06-18T22:59:58.181755Z",
     "iopub.status.idle": "2021-06-18T23:00:02.927523Z",
     "shell.execute_reply": "2021-06-18T23:00:02.928227Z"
    }
   },
   "outputs": [
    {
     "name": "stdout",
     "output_type": "stream",
     "text": [
      "Done :1\n",
      "Done :2\n",
      "Done :3\n",
      "Done :4\n",
      "Done :5\n",
      "Done Total\n"
     ]
    }
   ],
   "source": [
    "for m in range (1,6) :\n",
    "    df = pd.read_csv(\"/home/ys/notebook/processed/meetings_processed/meeting_(\"+str(m)+\")_list_processed.csv\")\n",
    "\n",
    "    df_void = pd.DataFrame(columns = header_df )\n",
    "\n",
    "    df_student = ps.sqldf(\"select * from df where role = 'Presentateur' \", locals())\n",
    "    df_prof = ps.sqldf(\"select * from df where role = 'Organisateur' \", locals())\n",
    "\n",
    "\n",
    "    day_id = get_id_time(df_prof[\"date\"][0])\n",
    "\n",
    "\n",
    "    start =  datetime.strptime(str(df_prof[\"arrive_time\"][0]), '%H:%M:%S')\n",
    "\n",
    "\n",
    "    df_emails = ps.sqldf(\"select DISTINCT email from df where role = 'Presentateur'\", locals())\n",
    "\n",
    "    sub_id = get_id_subject(df_prof[\"email\"][0],df_student['subject'][1]) \n",
    "\n",
    "    art = []\n",
    "    duration = []\n",
    "    id_student = []\n",
    "    id_time = []\n",
    "    id_subject = []\n",
    "    is_abs = []\n",
    "    is_late = []\n",
    "    for index, row in df_emails.iterrows():\n",
    "        arrive_time = []\n",
    "        duration_max =  datetime.strptime('00:00:00', '%H:%M:%S')\n",
    "        student_id = get_id_student(row[\"email\"])\n",
    "        for index_1, row_1 in df_student.iterrows():\n",
    "            if row[\"email\"] == row_1[\"email\"] :\n",
    "\n",
    "                a =  datetime.strptime(row_1['duration'] , '%H:%M:%S')\n",
    "                duration_max +=  timedelta(hours =a.hour, minutes = a.minute, seconds = a.second)\n",
    "\n",
    "                arrive_time.append(row_1['arrive_time'])\n",
    "\n",
    "        arrive_time = arrive_time[0]\n",
    "\n",
    "        delta = datetime.strptime(str(arrive_time), '%H:%M:%S')  - start\n",
    "        delta = datetime.strptime(str(delta), '%H:%M:%S')\n",
    "        if   duration_max <  datetime.strptime('00:30:00', '%H:%M:%S') : \n",
    "            is_abs.append(True)\n",
    "            is_late.append(False)\n",
    "        elif delta   > datetime.strptime('00:10:00', '%H:%M:%S') : \n",
    "            is_abs.append(False)\n",
    "            is_late.append(True)\n",
    "        else : \n",
    "            is_abs.append(False)\n",
    "            is_late.append(False)\n",
    "\n",
    "\n",
    "        art.append(arrive_time)\n",
    "        duration.append(str(duration_max).split(' ')[1])\n",
    "        id_student.append( student_id )\n",
    "        id_time.append( day_id )\n",
    "        id_subject.append( sub_id )\n",
    "\n",
    "\n",
    "    df_all_eamils = get_all_student_emails() \n",
    "\n",
    "\n",
    "    df_emails_abs = ps.sqldf(\"select email from df_all_eamils where email not in (select email from df_emails)\", locals())\n",
    "\n",
    "    for index, row in df_emails_abs.iterrows():\n",
    "        student_id = get_id_student(row[\"email\"])\n",
    "\n",
    "        art.append('00:00:00')\n",
    "        duration.append('00:00:00')\n",
    "        id_student.append( student_id )\n",
    "        id_time.append( day_id )\n",
    "        id_subject.append( sub_id )\n",
    "        is_abs.append(True)\n",
    "        is_late.append(False)\n",
    "\n",
    "    df_void['id_student'] = id_student\n",
    "    df_void['id_time'] = id_time\n",
    "    df_void['id_subject'] = id_subject\n",
    "    df_void['arrive_time'] = art\n",
    "    df_void['duration'] = duration\n",
    "    df_void['is_abs'] = is_abs\n",
    "    df_void['is_late'] = is_late\n",
    "\n",
    "    output = \"/home/ys/notebook/processed/meetings_output/meeting_(\"+str(m)+\")_list_output.csv\"\n",
    "    df_void.to_csv(output,index=False)\n",
    "    print(\"Done :\"+str(m))\n",
    "\n",
    "print(\"Done Total\")\n",
    "\n"
   ]
  },
  {
   "cell_type": "markdown",
   "id": "e9f89b7a",
   "metadata": {},
   "source": [
    "<h1>   Student_abs Table </h1>\n"
   ]
  },
  {
   "cell_type": "code",
   "execution_count": 13,
   "id": "1dea849b",
   "metadata": {
    "execution": {
     "iopub.execute_input": "2021-06-18T23:00:02.931693Z",
     "iopub.status.busy": "2021-06-18T23:00:02.930560Z",
     "iopub.status.idle": "2021-06-18T23:00:02.944889Z",
     "shell.execute_reply": "2021-06-18T23:00:02.944161Z"
    }
   },
   "outputs": [
    {
     "name": "stdout",
     "output_type": "stream",
     "text": [
      "id : integer\n",
      "id_student : integer\n",
      "id_subject : integer\n",
      "id_time : integer\n",
      "arrive_time : time without time zone\n",
      "duration : time without time zone\n",
      "is_late : boolean\n",
      "is_abs : boolean\n"
     ]
    }
   ],
   "source": [
    "mycursor = mydb.cursor()\n",
    "table=\"student_abs\"\n",
    "mycursor.execute(f\"SELECT * FROM information_schema.columns WHERE table_schema = 'Students_db' AND table_name   = '{table}' ;\")\n",
    "myresult = mycursor.fetchall()\n",
    "for value in myresult:\n",
    "     print(value[3],\":\",value[7])"
   ]
  },
  {
   "cell_type": "markdown",
   "id": "fc3f7fbb",
   "metadata": {},
   "source": [
    "<h1>   Adding to Student_abs Table </h1>\n"
   ]
  },
  {
   "cell_type": "code",
   "execution_count": 14,
   "id": "f3847f9b",
   "metadata": {
    "execution": {
     "iopub.execute_input": "2021-06-18T23:00:02.952729Z",
     "iopub.status.busy": "2021-06-18T23:00:02.952098Z",
     "iopub.status.idle": "2021-06-18T23:00:02.955478Z",
     "shell.execute_reply": "2021-06-18T23:00:02.956153Z"
    }
   },
   "outputs": [],
   "source": [
    "\n",
    "    \n",
    "def add_student_abs(id_student , id_subject , id_time , arrive_time, duration, is_late, is_abs ):\n",
    "    with open(\"/home/ys/notebook/config.json\") as f:\n",
    "        config = json.load(f)\n",
    "    mydb = psycopg2.connect(database=config[\"database\"], user=config[\"user\"], password=config[\"password\"], host=config[\"host\"], port=config[\"port\"], options=f'-c search_path=biabsence')\n",
    "    mycursor = mydb.cursor()\n",
    "    mycursor.execute(f\"\"\"SELECT * FROM \"Students_db\".student_abs where id_student  ='{str(id_student) }' and id_subject = '{str(id_subject)}' and id_time = '{str(id_time)}' ;\"\"\")\n",
    "    myresult = mycursor.fetchall()\n",
    "    if len(myresult) != 0:\n",
    "        return myresult[0][0]\n",
    "    if len(myresult) == 0:\n",
    "        sql = \"\"\"INSERT INTO \"Students_db\".student_abs (id_student , id_subject , id_time , arrive_time, duration, is_late, is_abs) VALUES  ('\"\"\"+str(id_student)+\"\"\"','\"\"\"+str(id_subject)+\"\"\"','\"\"\"+str(id_time)+\"\"\"','\"\"\"+str(arrive_time)+\"\"\"','\"\"\"+str(duration)+\"\"\"','\"\"\"+str(is_late)+\"\"\"','\"\"\"+str(is_abs)+\"\"\"')\"\"\"                                      \n",
    "        val = (subject,id_prof)\n",
    "        mycursor.execute(sql)\n",
    "        mydb.commit()\n",
    "        # print(mycursor.rowcount, \"record inserted.\")\n",
    "        mycursor.execute(f\"\"\"SELECT * FROM \"Students_db\".student_abs where id_student  ='{id_student }' and id_subject = '{id_subject}' and id_time = '{id_time}' ;\"\"\")\n",
    "        myresult = mycursor.fetchall()\n",
    "        return myresult[0][0]"
   ]
  },
  {
   "cell_type": "code",
   "execution_count": 15,
   "id": "65b30d52",
   "metadata": {
    "execution": {
     "iopub.execute_input": "2021-06-18T23:00:02.959155Z",
     "iopub.status.busy": "2021-06-18T23:00:02.958162Z",
     "iopub.status.idle": "2021-06-18T23:00:04.744092Z",
     "shell.execute_reply": "2021-06-18T23:00:04.743512Z"
    }
   },
   "outputs": [
    {
     "name": "stdout",
     "output_type": "stream",
     "text": [
      "1\n",
      "2\n",
      "3\n",
      "4\n",
      "5\n",
      "6\n",
      "7\n",
      "8\n",
      "9\n",
      "10\n",
      "11\n",
      "12\n",
      "13\n",
      "14\n",
      "15\n",
      "16\n",
      "17\n",
      "18\n",
      "19\n",
      "20\n",
      "21\n",
      "22\n",
      "23\n",
      "24\n",
      "25\n",
      "26\n",
      "27\n",
      "28\n",
      "29\n",
      "30\n",
      "31\n",
      "32\n",
      "33\n",
      "34\n",
      "35\n",
      "36\n",
      "37\n",
      "38\n",
      "39\n",
      "40\n",
      "41\n",
      "42\n",
      "43\n",
      "44\n",
      "45\n",
      "46\n",
      "47\n",
      "48\n",
      "49\n",
      "50\n",
      "51\n",
      "52\n",
      "53\n",
      "54\n",
      "55\n",
      "56\n",
      "57\n",
      "58\n",
      "59\n",
      "60\n",
      "61\n",
      "62\n",
      "63\n",
      "64\n",
      "65\n",
      "66\n",
      "67\n",
      "68\n",
      "69\n",
      "70\n",
      "71\n",
      "72\n",
      "73\n",
      "74\n",
      "75\n",
      "76\n",
      "77\n",
      "78\n",
      "79\n",
      "80\n",
      "81\n",
      "82\n",
      "83\n",
      "84\n",
      "85\n",
      "86\n",
      "87\n",
      "88\n",
      "89\n",
      "90\n",
      "91\n",
      "92\n",
      "93\n",
      "94\n",
      "95\n",
      "96\n",
      "97\n",
      "98\n",
      "99\n",
      "100\n",
      "101\n",
      "102\n",
      "103\n",
      "104\n",
      "105\n",
      "106\n",
      "107\n",
      "108\n",
      "109\n",
      "110\n",
      "111\n",
      "112\n",
      "113\n",
      "114\n",
      "115\n",
      "116\n",
      "117\n",
      "118\n",
      "119\n",
      "120\n",
      "121\n",
      "122\n",
      "123\n",
      "124\n",
      "125\n",
      "126\n",
      "127\n",
      "128\n",
      "129\n",
      "130\n",
      "131\n",
      "132\n",
      "133\n",
      "134\n",
      "135\n",
      "136\n",
      "137\n",
      "138\n",
      "139\n",
      "140\n",
      "141\n",
      "142\n",
      "143\n",
      "144\n",
      "145\n",
      "146\n",
      "147\n",
      "148\n",
      "149\n",
      "150\n",
      "151\n",
      "152\n",
      "153\n",
      "154\n",
      "155\n",
      "156\n",
      "157\n",
      "158\n",
      "159\n",
      "160\n",
      "161\n",
      "162\n",
      "163\n",
      "164\n",
      "165\n",
      "166\n",
      "167\n",
      "168\n",
      "169\n",
      "170\n",
      "171\n",
      "172\n",
      "173\n",
      "174\n",
      "175\n",
      "176\n",
      "177\n",
      "178\n",
      "179\n",
      "180\n",
      "181\n",
      "182\n",
      "183\n",
      "184\n",
      "185\n",
      "186\n",
      "187\n",
      "188\n",
      "189\n",
      "190\n",
      "191\n",
      "192\n",
      "193\n",
      "194\n",
      "195\n",
      "196\n",
      "197\n",
      "198\n",
      "199\n",
      "200\n",
      "201\n",
      "202\n",
      "203\n",
      "204\n",
      "205\n",
      "206\n",
      "207\n",
      "208\n",
      "209\n",
      "210\n",
      "211\n",
      "212\n",
      "213\n",
      "214\n",
      "215\n",
      "216\n",
      "217\n",
      "218\n",
      "219\n",
      "220\n",
      "221\n",
      "222\n",
      "223\n",
      "224\n",
      "225\n",
      "226\n",
      "227\n",
      "228\n",
      "229\n",
      "230\n",
      "231\n",
      "232\n",
      "233\n",
      "234\n",
      "235\n",
      "236\n",
      "237\n",
      "238\n",
      "239\n",
      "240\n",
      "241\n",
      "242\n",
      "243\n",
      "244\n",
      "245\n",
      "246\n",
      "247\n",
      "248\n",
      "249\n",
      "250\n",
      "251\n",
      "252\n",
      "253\n",
      "254\n",
      "255\n",
      "256\n",
      "257\n",
      "258\n",
      "259\n",
      "260\n",
      "261\n",
      "262\n",
      "263\n",
      "264\n",
      "265\n",
      "266\n",
      "267\n",
      "268\n",
      "269\n",
      "270\n",
      "271\n",
      "272\n",
      "273\n",
      "274\n",
      "275\n",
      "276\n",
      "277\n",
      "278\n",
      "279\n",
      "280\n",
      "281\n",
      "282\n",
      "283\n",
      "284\n",
      "285\n",
      "286\n",
      "287\n",
      "288\n",
      "289\n",
      "290\n",
      "291\n",
      "292\n",
      "293\n",
      "294\n",
      "295\n",
      "296\n",
      "297\n",
      "298\n",
      "299\n",
      "300\n",
      "301\n",
      "302\n",
      "303\n",
      "304\n",
      "305\n",
      "306\n",
      "307\n",
      "308\n",
      "309\n",
      "310\n",
      "311\n",
      "312\n",
      "313\n",
      "314\n",
      "315\n",
      "316\n",
      "317\n",
      "318\n",
      "319\n",
      "320\n",
      "321\n",
      "322\n",
      "323\n",
      "324\n",
      "325\n",
      "326\n",
      "327\n",
      "328\n",
      "329\n",
      "330\n",
      "331\n",
      "332\n",
      "333\n",
      "334\n",
      "335\n",
      "336\n",
      "337\n",
      "338\n",
      "339\n",
      "340\n",
      "341\n",
      "342\n",
      "343\n",
      "344\n",
      "345\n",
      "346\n",
      "347\n",
      "348\n",
      "349\n",
      "350\n",
      "351\n",
      "352\n",
      "353\n",
      "354\n",
      "355\n",
      "356\n",
      "357\n",
      "358\n",
      "359\n",
      "360\n",
      "361\n",
      "362\n",
      "363\n",
      "364\n",
      "365\n",
      "366\n",
      "367\n",
      "368\n",
      "369\n",
      "370\n",
      "371\n",
      "372\n",
      "373\n",
      "374\n",
      "375\n",
      "376\n",
      "377\n",
      "378\n",
      "379\n",
      "380\n",
      "381\n",
      "382\n",
      "383\n",
      "384\n",
      "385\n",
      "386\n",
      "387\n",
      "388\n",
      "389\n",
      "390\n",
      "391\n",
      "392\n",
      "393\n",
      "394\n",
      "395\n"
     ]
    }
   ],
   "source": [
    "for m in range (1,6) :\n",
    "    df = pd.read_csv(\"/home/ys/notebook/processed/meetings_output/meeting_(\"+str(m)+\")_list_output.csv\")\n",
    "    for index, row in df.iterrows():\n",
    "        id_student=row['id_student']\n",
    "        id_subject=row['id_subject']\n",
    "        id_time=row['id_time']\n",
    "        arrive_time = row['arrive_time']\n",
    "        duration = row['duration']\n",
    "        is_late = row['is_late']\n",
    "        is_abs = row['is_abs']\n",
    "        id_student=add_student_abs(id_student , id_subject , id_time , arrive_time, duration, is_late, is_abs )\n",
    "        print(id_student)\n"
   ]
  },
  {
   "cell_type": "code",
   "execution_count": null,
   "id": "364e9ca3",
   "metadata": {},
   "outputs": [],
   "source": []
  }
 ],
 "metadata": {
  "kernelspec": {
   "display_name": "Python 3",
   "language": "python",
   "name": "python3"
  },
  "language_info": {
   "codemirror_mode": {
    "name": "ipython",
    "version": 3
   },
   "file_extension": ".py",
   "mimetype": "text/x-python",
   "name": "python",
   "nbconvert_exporter": "python",
   "pygments_lexer": "ipython3",
   "version": "3.6.9"
  }
 },
 "nbformat": 4,
 "nbformat_minor": 5
}
